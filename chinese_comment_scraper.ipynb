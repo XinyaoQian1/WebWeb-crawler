{
 "cells": [
  {
   "cell_type": "code",
   "execution_count": null,
   "metadata": {
    "collapsed": true
   },
   "outputs": [],
   "source": []
  },
  {
   "cell_type": "code",
   "execution_count": 1,
   "outputs": [
    {
     "name": "stdout",
     "output_type": "stream",
     "text": [
      "['最后那些最无聊的事情，才是我最怀念的。', '前面几分钟就让人落泪，后面却越来越不靠谱', '有史以来最强壮的老爷爷和最轻便的房屋~一群最不靠谱的狗和一只引人发笑的怪鸟~外加一位惹人喜爱却戏份不多的老奶奶，组成了一部我大爱的好片！', '“我总是记得那些无聊的小事情……”“感谢你给了我精彩的一生”，简单并深情着', '去掉小孩，坏蛋，狗，鸟的话，这会是部完美的短片，but......;\\r\\n那段夫妻蒙太奇应该是我迄今最喜欢的pixar段落了;\\r\\n有一点不得不佩服pixar，拍的第一部3D就能完全摒弃滥斛噱头；而片头前那个“国内首部真人3D电影”的三分钟预告片，足以列入反面教材的经典了\\r\\n\\r\\n', '最让我感动的是电影开头，这对夫妻志趣相投、相濡以沫，我想自己能不能找到这样的另一半呢', '从头哭到尾', '基本是儿童剧，最感人的部分一直到屋子初飞起的那一刻，之后就一直在梦游了..=。= 原本以为一切奇想不过是卡尔在再遇女孩那晚所做的一场梦，并且第二天天亮她还会来找他的…对男孩子气的艾莉的印象实在是太深了，这片要是只选取到艾莉死时，卡尔飞起气球，就是满分。皮克斯的技术没得说，因此4星', '史上第二彪悍钉子户的离奇拆迁故事。Pixar完美地成熟了。', '在影片最开头对老夫妻一生的回顾无疑是最大泪点，他们过了很好很幸福的一生，当垂垂老矣，他们仍深爱着对方，就算你已不在，也要带着他们曾经共同的梦想在生命的最终冒险一把，就像小朋友不畏惧一切的好奇心，对生活对梦想，再大的年纪都不是阻碍', '前12分钟完美，后面剧作不及技术好。', '梦想，多久开始实现都不晚。《冰河世纪》也好，《史瑞克》也好，永远都赶不上皮克斯动画的情怀与意境。', '为爱妻遗愿，老钉子户一飞冲天，远赴南美寻梦', '爱和梦想，勇气和希望', '几十年的夫妻生活浓缩成几分钟那段美好死了。', '近乎无可挑剔..', 'PIXAR总是这么perfect.原来和爱人相守一生是最大的冒险', '触动内心最柔软的温情', '最震撼的片头，5分钟见证一生。', '相识相爱相伴到老是人生最浪漫的事。其实爱情不需要轰轰烈烈，柴米油盐普通的平淡的生活才是最真实的。珍惜人生旅途中陪你看风景的人吧。']\n"
     ]
    }
   ],
   "source": [
    "import requests\n",
    "from bs4 import BeautifulSoup\n",
    "url = 'https://movie.douban.com/subject/2129039/comments?sort=new_score&status=P'\n",
    "# failed request\n",
    "# response = requests.get(url)\n",
    "# print(response.request.headers)\n",
    "\n",
    "\n",
    "# set user-agent\n",
    "# test_header = {\"User-Agent\": \"浏览器类型\"}\n",
    "user_agent = \"Mozilla/5.0 (Macintosh; Intel Mac OS X 10.15; rv:109.0) Gecko/20100101 Firefox/111.0\"\n",
    "test_header = {\"User-Agent\": user_agent}\n",
    "response2 = requests.get(url,headers=test_header)\n",
    "# print(response2.request.headers)\n",
    "# print(response2.text[12000:20000])\n",
    "soup = BeautifulSoup(response2.text, \"lxml\")\n",
    "# Find all <span> tags with class=\"short\"\n",
    "short_spans = soup.find_all('span', class_='short')\n",
    "# for comments in short_spans:\n",
    "#     print(comments.text)\n",
    "comments= [c.text for c in short_spans]\n",
    "print(comments)"
   ],
   "metadata": {
    "collapsed": false
   }
  },
  {
   "cell_type": "code",
   "execution_count": 3,
   "outputs": [
    {
     "name": "stdout",
     "output_type": "stream",
     "text": [
      "Collecting jieba\r\n",
      "  Downloading jieba-0.42.1.tar.gz (19.2 MB)\r\n",
      "\u001B[2K     \u001B[90m━━━━━━━━━━━━━━━━━━━━━━━━━━━━━━━━━━━━━━━━\u001B[0m \u001B[32m19.2/19.2 MB\u001B[0m \u001B[31m19.1 MB/s\u001B[0m eta \u001B[36m0:00:00\u001B[0m00:01\u001B[0m00:01\u001B[0m\r\n",
      "\u001B[?25h  Preparing metadata (setup.py) ... \u001B[?25ldone\r\n",
      "\u001B[?25hBuilding wheels for collected packages: jieba\r\n",
      "  Building wheel for jieba (setup.py) ... \u001B[?25ldone\r\n",
      "\u001B[?25h  Created wheel for jieba: filename=jieba-0.42.1-py3-none-any.whl size=19314477 sha256=e21903ac9508550d54ba6e5d49d0d33b031eda5277f870bd578a4317ed36f690\r\n",
      "  Stored in directory: /Users/kylin/Library/Caches/pip/wheels/7d/74/cf/08c94db4b784e2c1ef675a600b7b5b281fd25240dcb954ee7e\r\n",
      "Successfully built jieba\r\n",
      "Installing collected packages: jieba\r\n",
      "Successfully installed jieba-0.42.1\r\n",
      "Note: you may need to restart the kernel to use updated packages.\n"
     ]
    }
   ],
   "source": [
    "pip install jieba"
   ],
   "metadata": {
    "collapsed": false
   }
  },
  {
   "cell_type": "markdown",
   "source": [
    "jieba.lcut()\n",
    "代码的作用\n",
    "在 jieba 模块中，分词的方法有很多种，在这里，我们使用 jieba.lcut()。\n",
    "\n",
    "jieba.lcut() 将字符串切分为词。\n",
    "回到项目中，上节课我们已经完成了内容的提取并输出了短评。\n",
    "\n",
    "接着，首先需要导入 jieba 模块。把变量 contentString 传入 jieba.lcut() 进行分词，将返回的列表赋值给 words。"
   ],
   "metadata": {
    "collapsed": false
   }
  },
  {
   "cell_type": "code",
   "execution_count": 4,
   "outputs": [
    {
     "name": "stderr",
     "output_type": "stream",
     "text": [
      "Building prefix dict from the default dictionary ...\n",
      "Dumping model to file cache /var/folders/d3/hrklkv3d5nl_8rzt8c3y28l00000gn/T/jieba.cache\n",
      "Loading model cost 0.567 seconds.\n",
      "Prefix dict has been built successfully.\n"
     ]
    },
    {
     "name": "stdout",
     "output_type": "stream",
     "text": [
      "['最后', '那些', '最', '无聊', '的', '事情', '，', '才', '是', '我', '最', '怀念', '的', '。']\n",
      "['“', '我', '总是', '记得', '那些', '无聊', '的', '小', '事情', '…', '…', '”', '“', '感谢', '你', '给', '了', '我', '精彩', '的', '一生', '”', '，', '简单', '并', '深情', '着']\n",
      "['有史以来', '最', '强壮', '的', '老爷爷', '和', '最', '轻便', '的', '房屋', '~', '一群', '最', '不靠', '谱', '的', '狗', '和', '一只', '引', '人', '发笑', '的', '怪', '鸟', '~', '外加', '一位', '惹人', '喜爱', '却', '戏份', '不多', '的', '老奶奶', '，', '组成', '了', '一部', '我大爱', '的', '好片', '！']\n",
      "['去掉', '小孩', '，', '坏蛋', '，', '狗', '，', '鸟', '的话', '，', '这会', '是', '部', '完美', '的', '短片', '，', 'but', '......', ';', '\\r\\n', '那段', '夫妻', '蒙太奇', '应该', '是', '我', '迄今', '最', '喜欢', '的', 'pixar', '段落', '了', ';', '\\r\\n', '有', '一点', '不得不', '佩服', 'pixar', '，', '拍', '的', '第一部', '3D', '就', '能', '完全', '摒弃', '滥', '斛', '噱头', '；', '而', '片头', '前', '那个', '“', '国内', '首部', '真人', '3D', '电影', '”', '的', '三分钟', '预告片', '，', '足以', '列入', '反面教材', '的', '经典', '了', '\\r\\n', '\\r\\n']\n",
      "['基本', '是', '儿童剧', '，', '最', '感人', '的', '部分', '一直', '到', '屋子', '初飞起', '的', '那一刻', '，', '之后', '就', '一直', '在', '梦游', '了', '..', '=', '。', '=', ' ', '原本', '以为', '一切', '奇想', '不过', '是', '卡尔', '在', '再', '遇', '女孩', '那晚', '所', '做', '的', '一场', '梦', '，', '并且', '第二天', '天亮', '她', '还', '会', '来', '找', '他', '的', '…', '对', '男孩子', '气', '的', '艾莉', '的', '印象', '实在', '是', '太深', '了', '，', '这片', '要是', '只', '选取', '到', '艾莉', '死', '时', '，', '卡尔', '飞', '起', '气球', '，', '就是', '满分', '。', '皮克斯', '的', '技术', '没得说', '，', '因此', '4', '星']\n",
      "['最', '让', '我', '感动', '的', '是', '电影', '开头', '，', '这', '对', '夫妻', '志趣相投', '、', '相濡以沫', '，', '我', '想', '自己', '能', '不能', '找到', '这样', '的', '另一半', '呢']\n",
      "['从头', '哭', '到', '尾']\n",
      "['前', '12', '分钟', '完美', '，', '后面', '剧作', '不及', '技术', '好', '。']\n",
      "['梦想', '，', '多久', '开始', '实现', '都', '不晚', '。', '《', '冰河', '世纪', '》', '也好', '，', '《', '史瑞克', '》', '也好', '，', '永远', '都', '赶不上', '皮克斯', '动画', '的', '情怀', '与', '意境', '。']\n",
      "['史上', '第二', '彪悍', '钉子户', '的', '离奇', '拆迁', '故事', '。', 'Pixar', '完美', '地', '成熟', '了', '。']\n",
      "['为', '爱妻', '遗愿', '，', '老', '钉子户', '一飞冲天', '，', '远', '赴', '南美', '寻梦']\n",
      "['最', '震撼', '的', '片头', '，', '5', '分钟', '见证', '一生', '。']\n",
      "['在', '影片', '最', '开头', '对', '老夫妻', '一生', '的', '回顾', '无疑', '是', '最大', '泪点', '，', '他们', '过', '了', '很', '好', '很', '幸福', '的', '一生', '，', '当', '垂垂老矣', '，', '他们', '仍', '深爱着', '对方', '，', '就算', '你', '已', '不', '在', '，', '也', '要', '带', '着', '他们', '曾经', '共同', '的', '梦想', '在', '生命', '的', '最终', '冒险', '一把', '，', '就', '像', '小朋友', '不', '畏惧', '一切', '的', '好奇心', '，', '对', '生活', '对', '梦想', '，', '再', '大', '的', '年纪', '都', '不是', '阻碍']\n",
      "['爱', '和', '梦想', '，', '勇气', '和', '希望']\n",
      "['几十年', '的', '夫妻生活', '浓缩', '成', '几分钟', '那段', '美好', '死', '了', '。']\n",
      "['前面', '几分钟', '就让', '人', '落泪', '，', '后面', '却', '越来越', '不靠', '谱']\n",
      "['近乎', '无可挑剔', '..']\n",
      "['好莱坞', '逻辑', '—', '—', '只有', '主角', '的', '梦想', '才', '是', '梦想', '，', '反角', '的', '梦想', '都', '是', '邪念', '。', '。', '。']\n",
      "['PIXAR', '总是', '这么', 'perfect', '.', '原来', '和', '爱人', '相守', '一生', '是', '最大', '的', '冒险']\n",
      "['PIXAR', '总是', '能', '带来', '最', '单纯', '的', '美好']\n"
     ]
    }
   ],
   "source": [
    "import  jieba\n",
    "for c in short_spans:\n",
    "    c = c.text\n",
    "    word = jieba.lcut(c)\n",
    "    print(word)\n",
    "\n"
   ],
   "metadata": {
    "collapsed": false
   }
  }
 ],
 "metadata": {
  "kernelspec": {
   "display_name": "Python 3",
   "language": "python",
   "name": "python3"
  },
  "language_info": {
   "codemirror_mode": {
    "name": "ipython",
    "version": 2
   },
   "file_extension": ".py",
   "mimetype": "text/x-python",
   "name": "python",
   "nbconvert_exporter": "python",
   "pygments_lexer": "ipython2",
   "version": "2.7.6"
  }
 },
 "nbformat": 4,
 "nbformat_minor": 0
}
